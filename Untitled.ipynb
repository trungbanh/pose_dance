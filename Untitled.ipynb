{
 "cells": [
  {
   "cell_type": "markdown",
   "metadata": {},
   "source": [
    "## test accuracy "
   ]
  },
  {
   "cell_type": "code",
   "execution_count": 2,
   "metadata": {},
   "outputs": [],
   "source": [
    "%load_ext autoreload\n",
    "%autoreload 2\n",
    "\n",
    "from sklearn.decomposition import PCA\n",
    "from sklearn.svm import SVC\n",
    "from sklearn.neighbors import KNeighborsClassifier\n",
    "from sklearn.discriminant_analysis import LinearDiscriminantAnalysis as LDA \n",
    "from sklearn.model_selection import train_test_split\n",
    "from sklearn.neural_network import MLPClassifier\n",
    "from sklearn.metrics import accuracy_score\n",
    "import numpy as np\n",
    "import cv2\n",
    "import os\n",
    "# import own lib \n",
    "\n",
    "from knn import read as readData "
   ]
  },
  {
   "cell_type": "code",
   "execution_count": 3,
   "metadata": {},
   "outputs": [
    {
     "name": "stdout",
     "output_type": "stream",
     "text": [
      "(127, 16384) (127,)\n"
     ]
    }
   ],
   "source": [
    "data, label = readData()\n",
    "data = np.array(data)\n",
    "label = np.array(label)\n",
    "print (data.shape, label.shape)"
   ]
  },
  {
   "cell_type": "code",
   "execution_count": 17,
   "metadata": {},
   "outputs": [
    {
     "name": "stdout",
     "output_type": "stream",
     "text": [
      "0.8604651162790697 \t 0.8604651162790697 \t 0.8372093023255814 \t 0.27906976744186046 \t 0.27906976744186046 \t 0.9069767441860465\n",
      "0.9302325581395349 \t 0.9069767441860465 \t 0.8837209302325582 \t 0.3953488372093023 \t 0.3953488372093023 \t 0.9534883720930233\n",
      "0.9302325581395349 \t 0.8837209302325582 \t 0.8837209302325582 \t 0.5348837209302325 \t 0.5348837209302325 \t 0.9069767441860465\n",
      "0.8837209302325582 \t 0.9069767441860465 \t 0.8604651162790697 \t 0.3488372093023256 \t 0.3488372093023256 \t 0.9302325581395349\n",
      "0.9534883720930233 \t 0.9302325581395349 \t 0.9302325581395349 \t 0.3953488372093023 \t 0.3953488372093023 \t 0.9767441860465116\n",
      "0.9302325581395349 \t 0.9069767441860465 \t 0.8837209302325582 \t 0.37209302325581395 \t 0.37209302325581395 \t 0.9302325581395349\n",
      "0.9767441860465116 \t 0.9302325581395349 \t 0.9302325581395349 \t 0.3953488372093023 \t 0.3953488372093023 \t 0.9302325581395349\n",
      "0.9534883720930233 \t 0.9534883720930233 \t 0.9534883720930233 \t 0.37209302325581395 \t 0.37209302325581395 \t 0.9534883720930233\n",
      "0.9302325581395349 \t 0.9069767441860465 \t 0.8837209302325582 \t 0.3953488372093023 \t 0.3953488372093023 \t 0.9767441860465116\n"
     ]
    }
   ],
   "source": [
    "import warnings\n",
    "warnings.filterwarnings('ignore')\n",
    "pca    = PCA(n_components=0.85)\n",
    "svm    = SVC(C=100, gamma='auto')\n",
    "lda    = LDA(n_components=85)\n",
    "neight3 = KNeighborsClassifier(n_neighbors=3)\n",
    "neight5 = KNeighborsClassifier(n_neighbors=5)\n",
    "neight7 = KNeighborsClassifier(n_neighbors=7)\n",
    "X_train, X_test, y_train, y_test = train_test_split(data, label, test_size=0.333, random_state=30)\n",
    "y_old = y_test\n",
    "\n",
    "ac = open ('testac.txt','a+')\n",
    "for i in range(10):\n",
    "    X_train, X_test, y_train, y_test = train_test_split(data, label, test_size=0.333, random_state=30+i,shuffle=True )\n",
    "    y_new = y_test \n",
    "    \n",
    "    if (y_old != y_new).any() :\n",
    "        pca.fit(X_train,y_train)\n",
    "        pca_pa = pca.get_params()\n",
    "        pca_x = pca.transform(X_train)\n",
    "        pca_xx = pca.transform(X_test)\n",
    "\n",
    "        neight3.fit(pca_x,y_train)\n",
    "        neight5.fit(pca_x,y_train)\n",
    "        neight7.fit(pca_x,y_train)\n",
    "\n",
    "        n3 = neight3.score(pca_xx, y_test)\n",
    "        n5 = neight5.score(pca_xx, y_test)\n",
    "        n7 = neight7.score(pca_xx, y_test)\n",
    "\n",
    "        svm.fit(pca_x, y_train)\n",
    "        svmp = svm.score(pca_xx, y_test)\n",
    "\n",
    "        svm.fit(X_train, y_train)\n",
    "        svmc = svm.score(X_test, y_test)\n",
    "\n",
    "        lda.fit(X_train, y_train)\n",
    "        ldac = lda.score(X_test, y_test)\n",
    "        y_old = y_test\n",
    "\n",
    "        print ('{} \\t {} \\t {} \\t {} \\t {} \\t {}'.format(n3,n5,n7,svmp,svmc,ldac))\n",
    "        ac.write('{} \\t {} \\t {} \\t {} \\t {} \\t {} \\n'.format(n3,n5,n7,svmp,svmc,ldac))"
   ]
  },
  {
   "cell_type": "code",
   "execution_count": 18,
   "metadata": {},
   "outputs": [],
   "source": [
    "ac.close()"
   ]
  },
  {
   "cell_type": "code",
   "execution_count": 20,
   "metadata": {},
   "outputs": [],
   "source": [
    "LABEL = {\n",
    "    \"ca_2_tay_chap_vao_hong_phai\": 1,\n",
    "    \"chap_tay\": 2,\n",
    "    \"ngam_hoa\": 3,\n",
    "    \"phai_thang_trai_dang_hoa\": 4,\n",
    "    \"tay_phai_hong_tay_trai_hoa\": 5,\n",
    "    \"xoay_nguoi\": 6\n",
    "}\n",
    "\n",
    "def get_data():\n",
    "    labels = []\n",
    "    data = []\n",
    "    for _, d, _ in os.walk('./bodyposture/'):\n",
    "        for path in d:\n",
    "            for r, _, f in os.walk('./bodyposture/'+path):\n",
    "                for img in f:\n",
    "                    # print(r+'/'+img)\n",
    "                    labels.append(LABEL[r.split('/')[2]])\n",
    "                    img = cv2.imread(r+'/'+img, 0)\n",
    "                    img = cv2.resize(img, (250, 700))\n",
    "                    img = np.array(img)\n",
    "                    data.append(img.flatten())\n",
    "    return np.array(data, np.float32), np.array(labels)"
   ]
  },
  {
   "cell_type": "code",
   "execution_count": null,
   "metadata": {},
   "outputs": [
    {
     "name": "stdout",
     "output_type": "stream",
     "text": [
      " accuracy 0.6981132075471698\n",
      " accuracy 0.6037735849056604\n",
      " accuracy 0.7924528301886793\n"
     ]
    }
   ],
   "source": [
    "data, labels = get_data()\n",
    "# labels = np.reshape(labels, (1, -1))\n",
    "\n",
    "for i in range (5):\n",
    "    X_train, X_test, y_train, y_test = train_test_split(data, labels, test_size=0.2, random_state=20+i*3)\n",
    "    clf = MLPClassifier(solver='lbfgs', alpha=1e-5,\n",
    "                    hidden_layer_sizes=(10, 100), random_state=10)\n",
    "    clf.fit(X_train, y_train)\n",
    "\n",
    "    pre = clf.score(X_test,y_test)\n",
    "\n",
    "    print (\" accuracy {}\".format(pre) )"
   ]
  },
  {
   "cell_type": "code",
   "execution_count": 10,
   "metadata": {},
   "outputs": [],
   "source": [
    "import pickle \n",
    "\n",
    "with open('nn.plk','wb') as file:\n",
    "    pickle.dump(clf,file)\n"
   ]
  },
  {
   "cell_type": "markdown",
   "metadata": {},
   "source": [
    "# test nn model"
   ]
  },
  {
   "cell_type": "code",
   "execution_count": 8,
   "metadata": {},
   "outputs": [
    {
     "name": "stdout",
     "output_type": "stream",
     "text": [
      "[2]\n"
     ]
    }
   ],
   "source": [
    "img = cv2.imread('data1.jpg', 0)\n",
    "img = cv2.resize(img, (250, 700))\n",
    "img = np.array(img).flatten()\n",
    "result = clf.predict([img])\n",
    "\n",
    "print(result)"
   ]
  },
  {
   "cell_type": "code",
   "execution_count": 1,
   "metadata": {},
   "outputs": [
    {
     "name": "stdout",
     "output_type": "stream",
     "text": [
      "bodyposture\t      jsontest.json~\t\t   main.py\ttestdata\r\n",
      "classify.py\t      Khmer-Chol-Chnam-Thmay.webm  nn.plk\tUntitled.ipynb\r\n",
      "data1.jpg\t      knn.py\t\t\t   pose\t\tutils\r\n",
      "example.json\t      knowledge\t\t\t   pose2d.py\r\n",
      "hand_inference_graph  lda.pkl\t\t\t   protos\r\n",
      "jsontest.json\t      LICENSE\t\t\t   __pycache__\r\n"
     ]
    }
   ],
   "source": [
    "!ls"
   ]
  },
  {
   "cell_type": "code",
   "execution_count": 12,
   "metadata": {},
   "outputs": [
    {
     "name": "stdout",
     "output_type": "stream",
     "text": [
      "{\"number\": 129, \"foots\": [1, 1], \"pose\": 4, \"hands\": [\"3\", \"3\"]},{\"number\": 129, \"foots\": [1, 1], \"pose\": 4, \"hands\": [\"3\", \"3\"]},{\"number\": 132, \"foots\": [1, 1], \"pose\": 4, \"hands\": [\"3\", \"3\"]},{\"number\": 135, \"foots\": [1, 1], \"pose\": 4, \"hands\": [\"3\", \"None\"]},{\"number\": 138, \"foots\": [1, 1], \"pose\": 4, \"hands\": [\"3\", \"None\"]},{\"number\": 141, \"foots\": [1, 1], \"pose\": 4, \"hands\": [\"3\", \"None\"]}\n",
      "\n"
     ]
    }
   ],
   "source": [
    "with open(\"thu.json\") as thu:\n",
    "    chois = thu.read()\n",
    "    \n",
    "print(chois)"
   ]
  },
  {
   "cell_type": "code",
   "execution_count": null,
   "metadata": {},
   "outputs": [],
   "source": []
  }
 ],
 "metadata": {
  "kernelspec": {
   "display_name": "Python 3",
   "language": "python",
   "name": "python3"
  },
  "language_info": {
   "codemirror_mode": {
    "name": "ipython",
    "version": 3
   },
   "file_extension": ".py",
   "mimetype": "text/x-python",
   "name": "python",
   "nbconvert_exporter": "python",
   "pygments_lexer": "ipython3",
   "version": "3.6.8"
  }
 },
 "nbformat": 4,
 "nbformat_minor": 2
}
