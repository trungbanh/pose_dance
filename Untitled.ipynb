{
 "cells": [
  {
   "cell_type": "markdown",
   "metadata": {},
   "source": [
    "## test accuracy "
   ]
  },
  {
   "cell_type": "code",
   "execution_count": 1,
   "metadata": {},
   "outputs": [],
   "source": [
    "%load_ext autoreload\n",
    "%autoreload 2\n",
    "\n",
    "from sklearn.decomposition import PCA\n",
    "from sklearn.svm import SVC\n",
    "from sklearn.neighbors import KNeighborsClassifier\n",
    "from sklearn.discriminant_analysis import LinearDiscriminantAnalysis as LDA \n",
    "from sklearn.model_selection import train_test_split\n",
    "from sklearn.neural_network import MLPClassifier\n",
    "from sklearn.metrics import accuracy_score\n",
    "import numpy as np\n",
    "import cv2\n",
    "import os\n",
    "# import own lib \n",
    "\n",
    "from knn import read as readData "
   ]
  },
  {
   "cell_type": "code",
   "execution_count": 10,
   "metadata": {},
   "outputs": [
    {
     "name": "stdout",
     "output_type": "stream",
     "text": [
      "(127, 16384) (127,)\n"
     ]
    }
   ],
   "source": [
    "data, label = readData()\n",
    "data = np.array(data)\n",
    "label = np.array(label)\n",
    "print (data.shape, label.shape)"
   ]
  },
  {
   "cell_type": "code",
   "execution_count": 11,
   "metadata": {},
   "outputs": [
    {
     "name": "stdout",
     "output_type": "stream",
     "text": [
      "0.8604651162790697 \t 0.8604651162790697 \t 0.8372093023255814 \t 0.27906976744186046 \t 0.27906976744186046 \t 0.9069767441860465\n",
      "0.9302325581395349 \t 0.9069767441860465 \t 0.8837209302325582 \t 0.3953488372093023 \t 0.3953488372093023 \t 0.9534883720930233\n",
      "0.9302325581395349 \t 0.8837209302325582 \t 0.8837209302325582 \t 0.5348837209302325 \t 0.5348837209302325 \t 0.9069767441860465\n",
      "0.8837209302325582 \t 0.9069767441860465 \t 0.8604651162790697 \t 0.3488372093023256 \t 0.3488372093023256 \t 0.9302325581395349\n",
      "0.9534883720930233 \t 0.9302325581395349 \t 0.9302325581395349 \t 0.3953488372093023 \t 0.3953488372093023 \t 0.9767441860465116\n",
      "0.9302325581395349 \t 0.9069767441860465 \t 0.8837209302325582 \t 0.37209302325581395 \t 0.37209302325581395 \t 0.9302325581395349\n",
      "0.9767441860465116 \t 0.9302325581395349 \t 0.9302325581395349 \t 0.3953488372093023 \t 0.3953488372093023 \t 0.9302325581395349\n",
      "0.9534883720930233 \t 0.9534883720930233 \t 0.9534883720930233 \t 0.37209302325581395 \t 0.37209302325581395 \t 0.9534883720930233\n",
      "0.9302325581395349 \t 0.9069767441860465 \t 0.8837209302325582 \t 0.3953488372093023 \t 0.3953488372093023 \t 0.9767441860465116\n"
     ]
    }
   ],
   "source": [
    "import warnings\n",
    "warnings.filterwarnings('ignore')\n",
    "pca    = PCA(n_components=0.85)\n",
    "svm    = SVC(C=100, gamma='auto')\n",
    "lda    = LDA(n_components=85)\n",
    "neight3 = KNeighborsClassifier(n_neighbors=3)\n",
    "neight5 = KNeighborsClassifier(n_neighbors=5)\n",
    "neight7 = KNeighborsClassifier(n_neighbors=7)\n",
    "X_train, X_test, y_train, y_test = train_test_split(data, label, test_size=0.333, random_state=30)\n",
    "y_old = y_test\n",
    "\n",
    "ac = open ('testac.txt','a+')\n",
    "for i in range(10):\n",
    "    X_train, X_test, y_train, y_test = train_test_split(data, label, test_size=0.333, random_state=30+i,shuffle=True )\n",
    "    y_new = y_test \n",
    "    \n",
    "    if (y_old != y_new).any() :\n",
    "        pca.fit(X_train,y_train)\n",
    "        pca_pa = pca.get_params()\n",
    "        pca_x = pca.transform(X_train)\n",
    "        pca_xx = pca.transform(X_test)\n",
    "\n",
    "        neight3.fit(pca_x,y_train)\n",
    "        neight5.fit(pca_x,y_train)\n",
    "        neight7.fit(pca_x,y_train)\n",
    "\n",
    "        n3 = neight3.score(pca_xx, y_test)\n",
    "        n5 = neight5.score(pca_xx, y_test)\n",
    "        n7 = neight7.score(pca_xx, y_test)\n",
    "\n",
    "        svm.fit(pca_x, y_train)\n",
    "        svmp = svm.score(pca_xx, y_test)\n",
    "\n",
    "        svm.fit(X_train, y_train)\n",
    "        svmc = svm.score(X_test, y_test)\n",
    "\n",
    "        lda.fit(X_train, y_train)\n",
    "        ldac = lda.score(X_test, y_test)\n",
    "        y_old = y_test\n",
    "\n",
    "        print ('{} \\t {} \\t {} \\t {} \\t {} \\t {}'.format(n3,n5,n7,svmp,svmc,ldac))\n",
    "        ac.write('{} \\t {} \\t {} \\t {} \\t {} \\t {} \\n'.format(n3,n5,n7,svmp,svmc,ldac))"
   ]
  },
  {
   "cell_type": "code",
   "execution_count": 12,
   "metadata": {},
   "outputs": [],
   "source": [
    "ac.close()"
   ]
  },
  {
   "cell_type": "code",
   "execution_count": 14,
   "metadata": {},
   "outputs": [
    {
     "name": "stdout",
     "output_type": "stream",
     "text": [
      "confusion matrix \n",
      " [[ 8  0  1  0]\n",
      " [ 0 11  0  0]\n",
      " [ 0  0  6  0]\n",
      " [ 0  0  0 17]] \n",
      "F1 score \n",
      " 0.9769546459012943 \n"
     ]
    }
   ],
   "source": [
    "from sklearn.metrics import confusion_matrix\n",
    "print (\"confusion matrix \\n {} \".format(confusion_matrix(y_test, lda.predict(X_test))))\n",
    "from sklearn.metrics import f1_score \n",
    "print (\"F1 score \\n {} \".format(f1_score(y_test, lda.predict(X_test),average='weighted')))"
   ]
  },
  {
   "cell_type": "code",
   "execution_count": null,
   "metadata": {},
   "outputs": [],
   "source": [
    "lda.decision_function(X_train)"
   ]
  },
  {
   "cell_type": "code",
   "execution_count": 2,
   "metadata": {},
   "outputs": [],
   "source": [
    "LABEL = {\n",
    "    \"ca_2_tay_chap_vao_hong_phai\": 1,\n",
    "    \"chap_tay\": 2,\n",
    "    \"ngam_hoa\": 3,\n",
    "    \"phai_thang_trai_dang_hoa\": 4,\n",
    "    \"tay_phai_hong_tay_trai_hoa\": 5,\n",
    "    \"xoay_nguoi\": 6\n",
    "}\n",
    "\n",
    "def get_data():\n",
    "    labels = []\n",
    "    data = []\n",
    "    for _, d, _ in os.walk('./bodyposture/'):\n",
    "        for path in d:\n",
    "            for r, _, f in os.walk('./bodyposture/'+path):\n",
    "                for img in f:\n",
    "                    # print(r+'/'+img)\n",
    "                    labels.append(LABEL[r.split('/')[2]])\n",
    "                    img = cv2.imread(r+'/'+img, 0)\n",
    "                    img = cv2.resize(img, (250, 700))\n",
    "                    img = np.array(img)\n",
    "                    data.append(img.flatten())\n",
    "    return np.array(data, np.float32), np.array(labels)"
   ]
  },
  {
   "cell_type": "code",
   "execution_count": 3,
   "metadata": {},
   "outputs": [
    {
     "name": "stdout",
     "output_type": "stream",
     "text": [
      " accuracy 0.8867924528301887\n",
      "{'activation': 'relu', 'alpha': 1e-05, 'batch_size': 'auto', 'beta_1': 0.9, 'beta_2': 0.999, 'early_stopping': False, 'epsilon': 1e-08, 'hidden_layer_sizes': (10, 200), 'learning_rate': 'constant', 'learning_rate_init': 0.001, 'max_iter': 200, 'momentum': 0.9, 'n_iter_no_change': 10, 'nesterovs_momentum': True, 'power_t': 0.5, 'random_state': 10, 'shuffle': True, 'solver': 'lbfgs', 'tol': 0.0001, 'validation_fraction': 0.1, 'verbose': False, 'warm_start': False}\n"
     ]
    }
   ],
   "source": [
    "data, labels = get_data()\n",
    "# labels = np.reshape(labels, (1, -1))\n",
    "\n",
    "# for i in range (5):\n",
    "X_train, X_test, y_train, y_test = train_test_split(data, labels, test_size=0.2, random_state=20)\n",
    "clf = MLPClassifier(solver='lbfgs', alpha=1e-5,\n",
    "                hidden_layer_sizes=(10, 200), random_state=10)\n",
    "clf.fit(X_train, y_train)\n",
    "\n",
    "pre = clf.score(X_test,y_test)\n",
    "\n",
    "print (\" accuracy {}\".format(pre) )\n",
    "\n",
    "print(clf.get_params())"
   ]
  },
  {
   "cell_type": "code",
   "execution_count": 8,
   "metadata": {},
   "outputs": [
    {
     "name": "stdout",
     "output_type": "stream",
     "text": [
      "confusion matrix \n",
      " [[ 4  0  0  0  0  0]\n",
      " [ 0  6  0  0  2  0]\n",
      " [ 0  0  2  0  0  0]\n",
      " [ 0  0  0 10  1  0]\n",
      " [ 0  0  0  0 23  0]\n",
      " [ 0  0  0  0  3  2]] \n",
      "F1 score \n",
      " 0.8780496233326424 \n"
     ]
    }
   ],
   "source": [
    "from sklearn.metrics import confusion_matrix\n",
    "print (\"confusion matrix \\n {} \".format(confusion_matrix(y_test, clf.predict(X_test))))\n",
    "from sklearn.metrics import f1_score \n",
    "print (\"F1 score \\n {} \".format(f1_score(y_test, clf.predict(X_test),average='weighted')))"
   ]
  },
  {
   "cell_type": "code",
   "execution_count": 10,
   "metadata": {},
   "outputs": [],
   "source": [
    "import pickle \n",
    "\n",
    "with open('nn.plk','wb') as file:\n",
    "    pickle.dump(clf,file)\n"
   ]
  },
  {
   "cell_type": "markdown",
   "metadata": {},
   "source": [
    "# test nn model"
   ]
  },
  {
   "cell_type": "code",
   "execution_count": 8,
   "metadata": {},
   "outputs": [
    {
     "name": "stdout",
     "output_type": "stream",
     "text": [
      "[2]\n"
     ]
    }
   ],
   "source": [
    "img = cv2.imread('data1.jpg', 0)\n",
    "img = cv2.resize(img, (250, 700))\n",
    "img = np.array(img).flatten()\n",
    "result = clf.predict([img])\n",
    "\n",
    "print(result)"
   ]
  },
  {
   "cell_type": "code",
   "execution_count": 1,
   "metadata": {},
   "outputs": [
    {
     "name": "stdout",
     "output_type": "stream",
     "text": [
      "bodyposture\t      jsontest.json~\t\t   main.py\ttestdata\n",
      "classify.py\t      Khmer-Chol-Chnam-Thmay.webm  nn.plk\tUntitled.ipynb\n",
      "data1.jpg\t      knn.py\t\t\t   pose\t\tutils\n",
      "example.json\t      knowledge\t\t\t   pose2d.py\n",
      "hand_inference_graph  lda.pkl\t\t\t   protos\n",
      "jsontest.json\t      LICENSE\t\t\t   __pycache__\n"
     ]
    }
   ],
   "source": [
    "!ls"
   ]
  },
  {
   "cell_type": "code",
   "execution_count": 12,
   "metadata": {},
   "outputs": [
    {
     "name": "stdout",
     "output_type": "stream",
     "text": [
      "{\"number\": 129, \"foots\": [1, 1], \"pose\": 4, \"hands\": [\"3\", \"3\"]},{\"number\": 129, \"foots\": [1, 1], \"pose\": 4, \"hands\": [\"3\", \"3\"]},{\"number\": 132, \"foots\": [1, 1], \"pose\": 4, \"hands\": [\"3\", \"3\"]},{\"number\": 135, \"foots\": [1, 1], \"pose\": 4, \"hands\": [\"3\", \"None\"]},{\"number\": 138, \"foots\": [1, 1], \"pose\": 4, \"hands\": [\"3\", \"None\"]},{\"number\": 141, \"foots\": [1, 1], \"pose\": 4, \"hands\": [\"3\", \"None\"]}\n",
      "\n"
     ]
    }
   ],
   "source": [
    "with open(\"thu.json\") as thu:\n",
    "    chois = thu.read()\n",
    "    \n",
    "print(chois)"
   ]
  },
  {
   "cell_type": "markdown",
   "metadata": {},
   "source": [
    "## process image "
   ]
  },
  {
   "cell_type": "code",
   "execution_count": 1,
   "metadata": {},
   "outputs": [],
   "source": [
    "import re\n",
    "import os\n",
    "def find(path='.'): \n",
    "    for root, dirs, files in os.walk(path):\n",
    "        for file in files:\n",
    "            if file.startswith('page_%'):\n",
    "#                 print(path+\"/\"+file ) \n",
    "                bouding(path+'/'+file,file)"
   ]
  },
  {
   "cell_type": "code",
   "execution_count": 2,
   "metadata": {},
   "outputs": [],
   "source": [
    "import cv2 "
   ]
  },
  {
   "cell_type": "code",
   "execution_count": 13,
   "metadata": {},
   "outputs": [],
   "source": [
    "from matplotlib.pyplot import imshow\n",
    "import numpy as np\n",
    "def bouding(path,name):\n",
    "    img = cv2.imread(path,0)\n",
    "    temp = np.array(img)\n",
    "    ret, threshed_img = cv2.threshold(img,127, 255, cv2.THRESH_BINARY_INV)\n",
    "#     imshow(threshed_img)\n",
    "    # find contours and get the external one\n",
    "    contours, hier = cv2.findContours(threshed_img, cv2.RETR_EXTERNAL, cv2.CHAIN_APPROX_SIMPLE)\n",
    "    for c in contours:\n",
    "        # get the bounding rect\n",
    "        x, y, w, h = cv2.boundingRect(c)\n",
    "#         # draw a green rectangle to visualize the bounding rect\n",
    "        cv2.rectangle(img, (x, y), (x+w, y+h), (0, 255, 0), 2)\n",
    "#         print (x,y,w,h)\n",
    "    \n",
    "    newimg = temp[y:y+h,x:x+w]\n",
    "    ir = cv2.imwrite('new'+str(name)+'.png',newimg)\n",
    "    print (ir)\n",
    "#     imshow(newimg)"
   ]
  },
  {
   "cell_type": "code",
   "execution_count": 14,
   "metadata": {},
   "outputs": [
    {
     "name": "stdout",
     "output_type": "stream",
     "text": [
      "True\n",
      "True\n",
      "True\n",
      "True\n"
     ]
    }
   ],
   "source": [
    "find()"
   ]
  },
  {
   "cell_type": "code",
   "execution_count": 8,
   "metadata": {},
   "outputs": [
    {
     "name": "stdout",
     "output_type": "stream",
     "text": [
      "\u001b[0m\u001b[01;34mbodyposture\u001b[0m/                 lda.pkl       \u001b[01;34mprotos\u001b[0m/\n",
      "classify.py                  LICENSE       \u001b[01;34m__pycache__\u001b[0m/\n",
      "\u001b[01;35mdata1.jpg\u001b[0m                    main.py       testac.txt\n",
      "example.json                 nn.plk        \u001b[01;34mtestdata\u001b[0m/\n",
      "\u001b[01;34mhand_inference_graph\u001b[0m/        \u001b[01;35mpage_%-0.jpg\u001b[0m  thu.json\n",
      "jsontest.json                \u001b[01;35mpage_%-1.jpg\u001b[0m  thu.json~\n",
      "jsontest.json~               \u001b[01;35mpage_%-2.jpg\u001b[0m  Untitled.ipynb\n",
      "\u001b[01;35mKhmer-Chol-Chnam-Thmay.webm\u001b[0m  \u001b[01;35mpage_%-3.jpg\u001b[0m  \u001b[01;34mutils\u001b[0m/\n",
      "knn.py                       \u001b[01;34mpose\u001b[0m/\n",
      "\u001b[01;34mknowledge\u001b[0m/                   pose2d.py\n"
     ]
    }
   ],
   "source": [
    "ls"
   ]
  },
  {
   "cell_type": "code",
   "execution_count": null,
   "metadata": {},
   "outputs": [],
   "source": []
  }
 ],
 "metadata": {
  "kernelspec": {
   "display_name": "Python 3",
   "language": "python",
   "name": "python3"
  },
  "language_info": {
   "codemirror_mode": {
    "name": "ipython",
    "version": 3
   },
   "file_extension": ".py",
   "mimetype": "text/x-python",
   "name": "python",
   "nbconvert_exporter": "python",
   "pygments_lexer": "ipython3",
   "version": "3.6.8"
  }
 },
 "nbformat": 4,
 "nbformat_minor": 4
}
