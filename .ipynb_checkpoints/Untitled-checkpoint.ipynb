{
 "cells": [
  {
   "cell_type": "code",
   "execution_count": 4,
   "metadata": {},
   "outputs": [
    {
     "name": "stdout",
     "output_type": "stream",
     "text": [
      " accuracy 0.9056603773584906\n"
     ]
    }
   ],
   "source": [
    "from sklearn.model_selection import train_test_split\n",
    "from sklearn.neural_network import MLPClassifier\n",
    "from sklearn.metrics import accuracy_score\n",
    "import numpy as np\n",
    "import cv2\n",
    "import os\n",
    "\n",
    "data, labels = get_data()\n",
    "# labels = np.reshape(labels, (1, -1))\n",
    "\n",
    "X_train, X_test, y_train, y_test = train_test_split(data, labels, test_size=0.2, random_state=20)\n",
    "clf = MLPClassifier(solver='lbfgs', alpha=1e-5,\n",
    "                hidden_layer_sizes=(10, 200), random_state=10)\n",
    "clf.fit(X_train, y_train)\n",
    "\n",
    "pre = clf.score(X_test,y_test)\n",
    "\n",
    "print (\" accuracy {}\".format(pre) )"
   ]
  },
  {
   "cell_type": "code",
   "execution_count": 1,
   "metadata": {},
   "outputs": [],
   "source": [
    "LABEL = {\n",
    "    \"ca_2_tay_chap_vao_hong_phai\": 1,\n",
    "    \"chap_tay\": 2,\n",
    "    \"ngam_hoa\": 3,\n",
    "    \"phai_thang_trai_dang_hoa\": 4,\n",
    "    \"tay_phai_hong_tay_trai_hoa\": 5,\n",
    "    \"xoay_nguoi\": 6\n",
    "}\n",
    "\n",
    "def get_data():\n",
    "    labels = []\n",
    "    data = []\n",
    "    for _, d, _ in os.walk('./bodyposture/'):\n",
    "        for path in d:\n",
    "            for r, _, f in os.walk('./bodyposture/'+path):\n",
    "                for img in f:\n",
    "                    # print(r+'/'+img)\n",
    "                    labels.append(LABEL[r.split('/')[2]])\n",
    "                    img = cv2.imread(r+'/'+img, 0)\n",
    "                    img = cv2.resize(img, (250, 700))\n",
    "                    img = np.array(img)\n",
    "                    data.append(img.flatten())\n",
    "    return np.array(data, np.float32), np.array(labels)"
   ]
  },
  {
   "cell_type": "code",
   "execution_count": 5,
   "metadata": {},
   "outputs": [],
   "source": [
    "import pickle \n",
    "\n",
    "with open('nn.plk','wb') as file:\n",
    "    pickle.dump(clf,file)\n"
   ]
  },
  {
   "cell_type": "markdown",
   "metadata": {},
   "source": [
    "# test nn model"
   ]
  },
  {
   "cell_type": "code",
   "execution_count": 8,
   "metadata": {},
   "outputs": [
    {
     "name": "stdout",
     "output_type": "stream",
     "text": [
      "[2]\n"
     ]
    }
   ],
   "source": [
    "img = cv2.imread('data1.jpg', 0)\n",
    "img = cv2.resize(img, (250, 700))\n",
    "img = np.array(img).flatten()\n",
    "result = clf.predict([img])\n",
    "\n",
    "print(result)"
   ]
  },
  {
   "cell_type": "code",
   "execution_count": null,
   "metadata": {},
   "outputs": [],
   "source": []
  }
 ],
 "metadata": {
  "kernelspec": {
   "display_name": "Python 3",
   "language": "python",
   "name": "python3"
  },
  "language_info": {
   "codemirror_mode": {
    "name": "ipython",
    "version": 3
   },
   "file_extension": ".py",
   "mimetype": "text/x-python",
   "name": "python",
   "nbconvert_exporter": "python",
   "pygments_lexer": "ipython3",
   "version": "3.6.8"
  }
 },
 "nbformat": 4,
 "nbformat_minor": 2
}
